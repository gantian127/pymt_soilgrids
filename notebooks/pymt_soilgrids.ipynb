{
 "cells": [
  {
   "cell_type": "markdown",
   "id": "61e718c0",
   "metadata": {},
   "source": [
    "<img src=\"https://github.com/gantian127/pymt_soilgrids/blob/master/docs/_static/logo.png?raw=true\" width='600' align='center'></a>"
   ]
  },
  {
   "cell_type": "markdown",
   "id": "66dbc864",
   "metadata": {},
   "source": [
    "## Introduction"
   ]
  },
  {
   "cell_type": "markdown",
   "id": "fe66f600",
   "metadata": {},
   "source": [
    "[soilgrids package](https://github.com/gantian127/soilgrids) provides a set of functions that allows downloading of the global gridded soil information from [SoilGrids](https://www.isric.org/explore/soilgrids), a system for global digital soil mapping to map the spatial distribution of soil properties across the globe. soilgrids package also includes a Basic Model Interface ([BMI](https://bmi.readthedocs.io/en/latest/)). \n",
    "\n",
    "[pymt_soilgrids package](https://github.com/gantian127/pymt_soilgrids) uses the BMI of soilgrids to convert it into a reusable, plug-and-play data component for [PyMT](https://pymt.readthedocs.io/en/latest/?badge=latest) modeling framework. This allows the soil datasets to be easily coupled with other datasets or models that expose a BMI.\n",
    "\n",
    "To install pymt_soilgrids, please follow the instructions [here](https://github.com/gantian127/pymt_soilgrids#pymt_soilgrids).\n",
    "\n",
    "Suggested citation: Gan, T. (2023). Jupyter Notebooks for the soilgrids Data Component, HydroShare, https://www.hydroshare.org/resource/7ad709d065274ad2a2a8fd08860513d5/"
   ]
  },
  {
   "cell_type": "markdown",
   "id": "15c18790",
   "metadata": {},
   "source": [
    "## Coding Example"
   ]
  },
  {
   "cell_type": "markdown",
   "id": "47ffd597",
   "metadata": {},
   "source": [
    "Import SoilData class and instantiate it. A configuration file (yaml file) is required to provide the parameter settings for data download. An example configure.yaml file is provided in the same folder with this Jupyter Notebook file. For more details of the parameters specified in the config.yaml file, please check with the link [here](https://soilgrids.readthedocs.io/en/latest/?badge=latest#parameter-settings)."
   ]
  },
  {
   "cell_type": "code",
   "execution_count": null,
   "id": "d311e1d3",
   "metadata": {},
   "outputs": [],
   "source": [
    "import matplotlib.pyplot as plt\n",
    "import numpy as np\n",
    "\n",
    "from pymt.models import SoilData\n",
    "\n",
    "# initiate a data component\n",
    "data_comp = SoilData()\n",
    "data_comp.initialize('config_file.yaml')"
   ]
  },
  {
   "cell_type": "markdown",
   "id": "3a8ec0dc",
   "metadata": {},
   "source": [
    "Use variable related methods to check the variable information of the soil dataset. "
   ]
  },
  {
   "cell_type": "code",
   "execution_count": null,
   "id": "27b03d85",
   "metadata": {},
   "outputs": [],
   "source": [
    "# get variable info\n",
    "var_name = data_comp.output_var_names[0]\n",
    "var_unit = data_comp.var_units(var_name)\n",
    "var_location = data_comp.var_location(var_name)\n",
    "var_type = data_comp.var_type(var_name)\n",
    "var_grid = data_comp.var_grid(var_name)\n",
    "\n",
    "print('variable_name: {} \\nvar_unit: {} \\nvar_location: {} \\nvar_type: {} \\nvar_grid: {}'.format(\n",
    "    var_name, var_unit, var_location, var_type, var_grid))"
   ]
  },
  {
   "cell_type": "markdown",
   "id": "98828bee",
   "metadata": {},
   "source": [
    "Use grid related methods to check the grid information of the soil dataset. "
   ]
  },
  {
   "cell_type": "code",
   "execution_count": null,
   "id": "0eabb230",
   "metadata": {},
   "outputs": [],
   "source": [
    "# get variable grid info \n",
    "grid_type = data_comp.grid_type(var_grid)\n",
    "grid_rank = data_comp.grid_ndim(var_grid) \n",
    "grid_shape = data_comp.grid_shape(var_grid)\n",
    "grid_spacing = data_comp.grid_spacing(var_grid)\n",
    "grid_origin = data_comp.grid_origin(var_grid)\n",
    "\n",
    "print('grid_type: {} \\ngrid_rank: {} \\ngrid_shape: {} \\ngrid_spacing: {} \\ngrid_origin: {}'.format(\n",
    "    grid_type, grid_rank, grid_shape, grid_spacing, grid_origin))"
   ]
  },
  {
   "cell_type": "markdown",
   "id": "c9d33ae6",
   "metadata": {},
   "source": [
    "Use get_value( ) method to get the soil data as a numpy array. Please note that the default behavior of pymt components is to flatten data arrays. So make a new variable that restores the dimensionality of the data."
   ]
  },
  {
   "cell_type": "code",
   "execution_count": null,
   "id": "055736d5",
   "metadata": {},
   "outputs": [],
   "source": [
    "# get variable data \n",
    "data = data_comp.get_value(var_name)\n",
    "data_2D = data.reshape(grid_shape)\n",
    "\n",
    "print(data.shape, data_2D.shape)"
   ]
  },
  {
   "cell_type": "markdown",
   "id": "7d028f23",
   "metadata": {},
   "source": [
    "Now let's make a plot of the soil data. "
   ]
  },
  {
   "cell_type": "code",
   "execution_count": null,
   "id": "0c8c6622",
   "metadata": {},
   "outputs": [],
   "source": [
    "# get X, Y extent for plot\n",
    "min_y, min_x = grid_origin\n",
    "max_y = min_y + grid_spacing[0]*(grid_shape[0]-1)\n",
    "max_x = min_x + grid_spacing[1]*(grid_shape[1]-1)\n",
    "dy = grid_spacing[0]/2\n",
    "dx = grid_spacing[1]/2\n",
    "extent = [min_x - dx, max_x + dx, min_y - dy, max_y + dy]\n",
    "\n",
    "# plot data\n",
    "fig, ax = plt.subplots(1,1, figsize=(9,5))\n",
    "im = ax.imshow(data_2D, extent=extent,vmin=0)\n",
    "fig.colorbar(im)\n",
    "plt.xlabel('X')\n",
    "plt.ylabel('Y')\n",
    "plt.title('Mean pH between 0 and 5 cm soil depth in Senegal')"
   ]
  },
  {
   "cell_type": "markdown",
   "id": "c10aa0e2",
   "metadata": {},
   "source": [
    "Complete the example by finalizing the component."
   ]
  },
  {
   "cell_type": "code",
   "execution_count": null,
   "id": "ebddd9ad",
   "metadata": {},
   "outputs": [],
   "source": [
    "data_comp.finalize()"
   ]
  }
 ],
 "metadata": {
  "kernelspec": {
   "display_name": "Python 3 (ipykernel)",
   "language": "python",
   "name": "python3"
  },
  "language_info": {
   "codemirror_mode": {
    "name": "ipython",
    "version": 3
   },
   "file_extension": ".py",
   "mimetype": "text/x-python",
   "name": "python",
   "nbconvert_exporter": "python",
   "pygments_lexer": "ipython3",
   "version": "3.13.2"
  }
 },
 "nbformat": 4,
 "nbformat_minor": 5
}
